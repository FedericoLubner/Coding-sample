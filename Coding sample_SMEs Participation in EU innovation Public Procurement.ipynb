{
 "cells": [
  {
   "cell_type": "markdown",
   "metadata": {},
   "source": [
    "# SMEs Participation in EU innovation Public Procurement: Analysis by Procedure Type and Contract-Value Clusters\n"
   ]
  },
  {
   "cell_type": "markdown",
   "metadata": {},
   "source": [
    "The purpose of this notebook is to provide a coding sample aimed at carrying out a brief statistical analysis to investigate SME participation in EU innovation procurements, in order to assess their involvement in these tenders compared to traditional procurements and by contract value. The notebook is divided into three sections:\n",
    "\n",
    "- Data Loading, Cleaning & Preprocessing\n",
    "\n",
    "- Descriptive Analysis\n",
    "\n",
    "- Considerations & Insights"
   ]
  },
  {
   "cell_type": "code",
   "execution_count": 1,
   "metadata": {},
   "outputs": [],
   "source": [
    "import pandas as pd\n",
    "import numpy as np\n",
    "import matplotlib.pyplot as plt\n",
    "from statsmodels.stats.proportion import proportions_ztest\n",
    "from itertools import combinations"
   ]
  },
  {
   "cell_type": "markdown",
   "metadata": {},
   "source": [
    "# 1. Data loading, cleaning and preprocessing\n",
    "\n",
    "**Objective:**\n",
    "- 1.1. Data loading\n",
    "- 1.2 Data cleaning\n",
    "- 1.3 data segmentation\n",
    "\n",
    "**Tasks**:\n",
    "- 1.1. Data loading: read the TED DATASET into a Pandas DataFrame.\n",
    "\n",
    "- 1.2.a) normalize the data in column `'B_CONTRACTOR_SME'` in order to identify tenders where the contractor is an SME; \n",
    "- 1.2.b) data parsing\n",
    "\n",
    "- 1.3.a) Segment procurement of innovation tenders vs traditional tenders.  `isInnovation` identifies innovative tenders based on Competitive Dialogue (`'COD'`) or Innovation Partnership (`'INP'`); \n",
    "- 1.3.b) Segment awards into three value-based bins (Low, Medium, High) using quantile-based bins, ensure each cluster contains roughly equal numbers of observations. Bins correspond to the 0–33rd, 33–66th, and 66–100th percentiles of award value.\n"
   ]
  },
  {
   "cell_type": "code",
   "execution_count": 2,
   "metadata": {},
   "outputs": [],
   "source": [
    "# 1.1 Data loading: read the TED DATASET into a Pandas DataFrame.\n",
    "\n",
    "df = pd.read_csv('/Users/federicolubner/Desktop/analisi/DB/TED/Export_OpenDataCAN_from2018to2022.csv',low_memory=False)\n"
   ]
  },
  {
   "cell_type": "code",
   "execution_count": null,
   "metadata": {
    "scrolled": true
   },
   "outputs": [],
   "source": [
    "# Visualization of TED DATASET\n",
    "\n",
    "pd.set_option(\"display.max_columns\", None)\n",
    "\n",
    "df "
   ]
  },
  {
   "cell_type": "code",
   "execution_count": null,
   "metadata": {},
   "outputs": [],
   "source": [
    "# 1.2 Data cleaning: \n",
    "\n",
    "\n",
    "# 1.2.a normalize the data in column`'B_CONTRACTOR_SME'` in order to identify tenders where the contractor is an SME;\n",
    "\n",
    "df['B_CONTRACTOR_SME_clean'] = (\n",
    "    df['B_CONTRACTOR_SME']      \n",
    "      .fillna('')                \n",
    "      .str.contains('y', case=False, na=False)  \n",
    "      .map({True: 'Y', False: 'N'})) \n",
    "\n",
    "df['B_CONTRACTOR_SME_flag'] = df['B_CONTRACTOR_SME_clean'].map({'Y': 1, 'N': 0})\n",
    "\n",
    "\n",
    "\n",
    "# 1.2.b parsing award date to datetime\n",
    "df['DT_AWARD'] = pd.to_datetime(df['DT_AWARD'], errors='coerce')\n",
    "\n",
    "\n",
    "# 1.3 data segmentation:\n",
    "\n",
    "# 1.3.a) Segment procurement of innovation tenders vs traditional tenders\n",
    "\n",
    "df['isInnovation'] = df['TOP_TYPE'].isin(['COD', 'INP'])"
   ]
  },
  {
   "cell_type": "code",
   "execution_count": null,
   "metadata": {},
   "outputs": [],
   "source": [
    "# 1.3 b) Segment awards into three value-based bins (Low, Medium, High)\n",
    "\n",
    "df['value_cluster'] = pd.qcut(\n",
    "    df['AWARD_VALUE_EURO_FIN_1'],\n",
    "    q=3,\n",
    "    labels=['Low', 'Medium', 'High']\n",
    ")\n",
    "print(df['value_cluster'].value_counts())"
   ]
  },
  {
   "cell_type": "markdown",
   "metadata": {},
   "source": [
    "# 2. Descriptive Analysis\n",
    "\n",
    "**Objectives:**\n",
    "- 2.1: Analysis on SMEs partecipation per type of procurement (traditional procurement vs innovation procurement)\n",
    "- 2.2: Analysis on SMEs partecipation per type of procurement (traditional procurement vs innovation procurement) and value of contract\n",
    "\n",
    "**Tasks**:\n",
    "- 2.1.a: Calculate SMEs partecipation percentage per award: compute the share of bids submitted by SMEs for each award (SME participation rate). `pct_SME` column quantifies SMEs engagement per award\n",
    "- 2.1.b: Summarize average SMEs participation and count awards by procedure type, highlighting differences in SMEs engagement between innovative and traditional tenders.\n",
    "- 2.1.c: Visualization: SMEs Participation Comparison through bar chart comparing SMEs participation rates for traditional vs. innovative tenders.\n",
    "- 2.1.d: Proportion Test (Z-test): test whether the difference in SMEs participation rates between innovative and traditional tenders is statistically significant.\n",
    "- 2.1.e: Odds Ratio Calculation: estimate the odds ratio comparing the likelihood of SMEs bids in innovative vs. traditional tenders.\n",
    "\n",
    "- 2.2.a: Summarize average SMEs participation and count awards by procedure type and by cluster of tender value.\n",
    "- 2.2.b Visualization SMEs Participation Comparison (by tender type and by clusters of tender value).\n",
    "- 2.2.c Proportion Test (Z-test): Sum total SMEs bids for each combination of value cluster (Low vs Medium;Low vs High;Medium vs High) within innovation tenders.\n"
   ]
  },
  {
   "cell_type": "markdown",
   "metadata": {},
   "source": [
    "**2.1: Analysis on SMEs partecipation per type of procurement (traditional procurement vs innovation procurement)**"
   ]
  },
  {
   "cell_type": "code",
   "execution_count": null,
   "metadata": {},
   "outputs": [],
   "source": [
    "# 2.1.a Calculate SMEs partecipation percentage per award\n",
    "\n",
    "df['pct_SME'] = df['NUMBER_TENDERS_SME'] / df['NUMBER_OFFERS']\n",
    "\n",
    "# Removing records without info\n",
    "df = df.dropna(subset=['pct_SME'])\n",
    "print(df['pct_SME'].describe())"
   ]
  },
  {
   "cell_type": "code",
   "execution_count": null,
   "metadata": {},
   "outputs": [],
   "source": [
    "# 2.1.b Summarize average SMEs participation and count awards by procedure type\n",
    "\n",
    "summary = (\n",
    "    df\n",
    "    .groupby('isInnovation')\n",
    "    .agg(\n",
    "        mean_pct_SME=('pct_SME', 'mean'),\n",
    "        count_awards=('ID_AWARD', 'nunique')\n",
    "    )\n",
    "    .reset_index()\n",
    ")\n",
    "print(summary)\n"
   ]
  },
  {
   "cell_type": "code",
   "execution_count": null,
   "metadata": {},
   "outputs": [],
   "source": [
    "#2.1.c Visualization SMEs Participation Comparison (by tender type)\n",
    "\n",
    "fig, ax = plt.subplots()\n",
    "summary.plot.bar(\n",
    "    x='isInnovation',\n",
    "    y='mean_pct_SME',\n",
    "    legend=False,\n",
    "    ax=ax\n",
    ")\n",
    "ax.set_xticklabels(['Traditional', 'Innovative'], rotation=0)\n",
    "ax.set_ylabel('Average SME Participation Rate')\n",
    "ax.set_title('SMEs Participation: Traditional vs. Innovative Tenders')\n",
    "plt.tight_layout()\n",
    "plt.show()\n"
   ]
  },
  {
   "cell_type": "code",
   "execution_count": null,
   "metadata": {},
   "outputs": [],
   "source": [
    "# 2.1.d Proportion Test (Z-test)\n",
    "# Sum total bids and SMEs bids for each group\n",
    "\n",
    "mask_innov = df['isInnovation']\n",
    "tot_SME_innov = df.loc[mask_innov, 'NUMBER_TENDERS_SME'].sum()\n",
    "tot_offers_innov = df.loc[mask_innov, 'NUMBER_OFFERS'].sum()\n",
    "tot_SME_trad = df.loc[~mask_innov, 'NUMBER_TENDERS_SME'].sum()\n",
    "tot_offers_trad = df.loc[~mask_innov, 'NUMBER_OFFERS'].sum()\n",
    "\n",
    "count = [tot_SME_innov, tot_SME_trad]\n",
    "nobs = [tot_offers_innov, tot_offers_trad]\n",
    "stat, pval = proportions_ztest(count, nobs)\n",
    "print(f\"Z-test statistic: {stat:.3f}, p-value: {pval:.3f}\")\n"
   ]
  },
  {
   "cell_type": "markdown",
   "metadata": {},
   "source": [
    "**2.2: Analysis on SMEs partecipation per type of procurement (traditional procurement vs innovation procurement) and value of contract**"
   ]
  },
  {
   "cell_type": "code",
   "execution_count": null,
   "metadata": {},
   "outputs": [],
   "source": [
    "# 2.2.a: Summarize average SMEs participation and count awards by procedure type and by cluster of tender value\n",
    "\n",
    "\n",
    "cluster_summary = (\n",
    "    df\n",
    "    .groupby('value_cluster')\n",
    "    .agg(\n",
    "        mean_pct_SME=('pct_SME', 'mean'),\n",
    "        count_awards=('ID_AWARD', 'nunique')\n",
    "    )\n",
    "    .reset_index()\n",
    ")\n",
    "print(cluster_summary)\n"
   ]
  },
  {
   "cell_type": "code",
   "execution_count": null,
   "metadata": {},
   "outputs": [],
   "source": [
    "# 2.2.b Visualization SMEs Participation Comparison (by tender type and by clusters of tender value)\n",
    "\n",
    "\n",
    "df_plot = (\n",
    "    df\n",
    "    .groupby(['value_cluster', 'isInnovation'])\n",
    "    .agg(mean_pct_SME=('pct_SME', 'mean'))\n",
    "    .reset_index()\n",
    ")\n",
    "\n",
    "# Pivot so that columns are tender types\n",
    "pivot = df_plot.pivot(index='value_cluster', columns='isInnovation', values='mean_pct_SME')\n",
    "\n",
    "# Rename columns for readability\n",
    "pivot.columns = ['Traditional', 'Innovative']\n",
    "\n",
    "# Plot grouped bar chart\n",
    "fig, ax = plt.subplots()\n",
    "pivot.plot.bar(ax=ax)\n",
    "ax.set_xlabel('Contract Value Cluster')\n",
    "ax.set_ylabel('Average SME Participation Rate')\n",
    "ax.set_title('SME Participation by Contract Value and Tender Type')\n",
    "ax.legend(title='Tender Type')\n",
    "plt.tight_layout()\n",
    "plt.show()\n"
   ]
  },
  {
   "cell_type": "code",
   "execution_count": null,
   "metadata": {},
   "outputs": [],
   "source": [
    "# 2.2.c Proportion Test (Z-test)\n",
    "# Sum total SMEs bids for each combination of value cluster (Low vs Medium;Low vs High;Medium vs High) within innovation tenders\n",
    "\n",
    "\n",
    "df_innov = df[df['isInnovation']]\n",
    "\n",
    "cluster_counts = (\n",
    "    df_innov\n",
    "    .groupby('value_cluster')\n",
    "    .agg(\n",
    "        tot_SME=('NUMBER_TENDERS_SME', 'sum'),\n",
    "        tot_offers=('NUMBER_OFFERS', 'sum')\n",
    "    )\n",
    "    .reset_index()\n",
    ")\n",
    "print(\"Count summary per cluster (Innovation tenders):\")\n",
    "print(cluster_counts, \"\\n\")\n",
    "\n",
    "\n",
    "for c1, c2 in combinations(cluster_counts['value_cluster'], 2):\n",
    "    n_sme_1 = int(cluster_counts.loc[cluster_counts['value_cluster']==c1, 'tot_SME'])\n",
    "    n_tot_1 = int(cluster_counts.loc[cluster_counts['value_cluster']==c1, 'tot_offers'])\n",
    "    n_sme_2 = int(cluster_counts.loc[cluster_counts['value_cluster']==c2, 'tot_SME'])\n",
    "    n_tot_2 = int(cluster_counts.loc[cluster_counts['value_cluster']==c2, 'tot_offers'])\n",
    "    \n",
    "    stat, pval = proportions_ztest(\n",
    "        count=[n_sme_1, n_sme_2],\n",
    "        nobs=[n_tot_1, n_tot_2]\n",
    "    )\n",
    "    print(f\"Z-test {c1} vs {c2}: Z = {stat:.3f}, p-value = {pval:.4f}\")"
   ]
  },
  {
   "cell_type": "markdown",
   "metadata": {},
   "source": [
    "# 3. Considerations and insights\n",
    "\n",
    "\n",
    "**A) Absolute difference in SME share**\n",
    "\n",
    "Traditional tenders see on average 69.2% of bids coming from SMEs, whereas innovative tenders only see 49.9%.\n",
    "\n",
    "That’s a raw drop of about 19.3 percentage points—a substantial gap.\n",
    "\n",
    "**B) Relative comparison**\n",
    "\n",
    "RR= 0.4986/0.69198 ≈ 0.72\n",
    "\n",
    "SMEs are bidding to innovative tenders at only about 72% of the rate they bid to traditional ones (i.e. a 28% relative reduction).\n",
    "\n",
    "**C) Odds Ratio**\n",
    "\n",
    "If we convert each proportion into odds:\n",
    "\n",
    "**ODDSinnov** = 0.4986/(1 − 0.4986)≈ **0.994**\n",
    "\n",
    "**ODDStrad** = 0.69198/(1 − 0.69198) ≈ **2.246**\n",
    "\n",
    "Then:\n",
    "\n",
    "**OR= 0.994/2.246 ≈ 0.44**\n",
    "\n",
    "So the odds that a given bid is from an SME are roughly 56 % lower in innovative tenders than in traditional ones.\n",
    "\n",
    "**Sample sizes and statistical power**\n",
    "\n",
    "We can notice that in the datasets there are ~1.85 million traditional awards vs. just ~2 200 innovative awards.\n",
    "\n",
    "The sheer imbalance means that the Z-test was overwhelmingly powered (hence Z≈–31.2, p≪0.001), but the effect size (the ~0.20 difference in proportions) is what’s really interesting. Indeed, Effect Size (Absolute Difference in Proportions)\n",
    "The SME‐participation rate in traditional tenders is 0.6919 (69.19 %), whereas in innovative tenders it is 0.4986 (49.86 %). The absolute difference of 19.33%, indicates that traditional procedures attract nearly one‐fifth more SME bids than innovation procurement call for tenders. Such a large gap justifies targeted measures (e.g., SME incubation schemes, simplified tender documents, dedicated innovation calls) to boost SME involvement in innovation‐focused contracts.\n",
    "\n",
    "**Insights**\n",
    "\n",
    "These findings suggest that current innovation‐procurement policies are not effectively encouraging SME participation. Possible discouraging factors include:\n",
    "\n",
    "**Barrier to Entry**\n",
    "Innovation procedures impose a series of hurdles that disproportionately impact SMEs, limiting their ability to compete on equal footing with larger organizations:\n",
    "\n",
    "**Technical and Administrative Complexity**\n",
    "Innovation partnerships and competitive dialogues typically require detailed proposals outlining novel technical solutions, project roadmaps, risk mitigation plans, and intellectual property management strategies. Preparing these documents demands specialized expertise—often requiring legal, financial, and technical advisors—that many SMEs lack in-house. The sheer volume and sophistication of paperwork can discourage smaller firms with lean project teams.\n",
    "\n",
    "**Resource and Capacity Requirements**\n",
    "These tenders often involve multi-phase procurement processes (e.g., preliminary concept validation, prototyping, final development) and may span several years. SMEs must allocate staff time, invest in R&D, and secure working capital up front, without guaranteed award. Larger companies, by contrast, can amortize these costs across broader portfolios or self-finance development phases, making high-resource calls less risky for them.\n",
    "\n",
    "**Financial Guarantees and Bonding**\n",
    "Many high-value innovation contracts demand performance guarantees, bid bonds, or parent-company guarantees that tie up SMEs’ limited capital or require external collateral. Smaller enterprises frequently struggle to meet bank guarantee thresholds or negotiate favorable bonding terms, especially when cash-flow is already committed to core operations.\n",
    "\n",
    "**Consortium Expectations**\n",
    "Innovation tenders often favor or even mandate consortium bids, bringing together multiple stakeholders (e.g., research institutes, large integrators, technology partners). While consortiums can distribute costs and risks, forming and managing a network of partners—defining roles, aligning objectives, negotiating IP sharing—requires significant legal and managerial bandwidth. SMEs may lack both the network connections and project management resources to lead or even join such consortia effectively.\n",
    "\n",
    "**Risk Perception and Market Reputation**\n",
    "Innovation contracts carry higher uncertainty around deliverables, timelines, and market outcomes. Public buyers may see large, established firms as safer bets for cutting-edge projects, reinforcing a cycle where SMEs are bypassed even if they possess specialized niche expertise. This perception gap can deter SMEs from bidding, fearing reputational damage from failed high-stakes procurements."
   ]
  },
  {
   "cell_type": "code",
   "execution_count": null,
   "metadata": {},
   "outputs": [],
   "source": []
  }
 ],
 "metadata": {
  "kernelspec": {
   "display_name": "Python 3 (ipykernel)",
   "language": "python",
   "name": "python3"
  },
  "language_info": {
   "codemirror_mode": {
    "name": "ipython",
    "version": 3
   },
   "file_extension": ".py",
   "mimetype": "text/x-python",
   "name": "python",
   "nbconvert_exporter": "python",
   "pygments_lexer": "ipython3",
   "version": "3.9.12"
  }
 },
 "nbformat": 4,
 "nbformat_minor": 4
}
